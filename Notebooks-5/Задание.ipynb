{
 "cells": [
  {
   "cell_type": "markdown",
   "metadata": {
    "deletable": true,
    "editable": true
   },
   "source": [
    "# Multilayer perceptron"
   ]
  },
  {
   "cell_type": "markdown",
   "metadata": {
    "deletable": true,
    "editable": true
   },
   "source": [
    "Реализовать MLP"
   ]
  },
  {
   "cell_type": "code",
   "execution_count": 1,
   "metadata": {
    "collapsed": true,
    "deletable": true,
    "editable": true
   },
   "outputs": [],
   "source": [
    "import math\n",
    "import pandas as pd\n",
    "import numpy as np\n",
    "from itertools import count\n",
    "from sklearn.metrics import roc_auc_score\n",
    "from sklearn import metrics\n",
    "from sklearn.model_selection import KFold\n",
    "from sklearn.preprocessing import normalize\n",
    "import matplotlib.pyplot as plt\n",
    "from mpl_toolkits.mplot3d import Axes3D\n",
    "%matplotlib inline"
   ]
  },
  {
   "cell_type": "code",
   "execution_count": 2,
   "metadata": {
    "collapsed": false,
    "deletable": true,
    "editable": true
   },
   "outputs": [
    {
     "data": {
      "image/png": "[encoded data removed]",
      "text/plain": [
       "<matplotlib.figure.Figure at 0x11876abd0>"
      ]
     },
     "metadata": {},
     "output_type": "display_data"
    }
   ],
   "source": [
    "def sigmoid(x):\n",
    "    return 1 / (1 + np.exp(-x))\n",
    "\n",
    "p = np.array([sigmoid(i) for i in range(-10, 10, 1)])\n",
    "plt.plot(range(-10, 10, 1), p)\n",
    "plt.show()"
   ]
  },
  {
   "cell_type": "code",
   "execution_count": 578,
   "metadata": {
    "collapsed": false,
    "deletable": true,
    "editable": true
   },
   "outputs": [],
   "source": [
    "class Neuron():\n",
    "    \n",
    "    ids = 0\n",
    "    \n",
    "    def __init__(self, dim = 1, rst = 0):\n",
    "        self.dim = dim+1\n",
    "        self.rst = (rst+1)*10000\n",
    "        ran = np.random.RandomState(self.rst + Neuron.ids)\n",
    "        self.w = ran.random_sample(size=self.dim)\n",
    "        self.l = np.array([0.0 for _ in range(self.dim)])\n",
    "        self.dw = np.array([0.0 for _ in range(self.dim)])\n",
    "        Neuron.ids += 1\n",
    "        \n",
    "    def __del__(self):\n",
    "        Neuron.ids -= 1\n",
    "        \n",
    "    def calc(self, x):\n",
    "        x = np.append(x, 1)\n",
    "        for i in range(x.shape[0]):\n",
    "            self.l[i] = x[i]\n",
    "        return sigmoid(np.sum(x*self.w))"
   ]
  },
  {
   "cell_type": "code",
   "execution_count": 579,
   "metadata": {
    "collapsed": false,
    "deletable": true,
    "editable": true
   },
   "outputs": [
    {
     "name": "stdout",
     "output_type": "stream",
     "text": [
      "input = [[ 38.  13.  73.  10.  76.]]\n",
      "i = [ 0.33563981  0.11482414  0.64478173  0.08832627  0.67127961]\n",
      "w = [ 0.54547015  0.17186532  0.85293181  0.18022341  0.58870005  0.1207749 ]\n",
      "f = 0.7832396483\n"
     ]
    }
   ],
   "source": [
    "ran = np.random.RandomState(1)\n",
    "data = ran.randint(low=1, high=100, size=5).reshape(1, -1) + 0.0\n",
    "print \"input =\", data\n",
    "x = normalize(data)[0]\n",
    "print \"i =\", x\n",
    "n = Neuron(dim=x.shape[0], rst=0)\n",
    "print \"w =\", n.w\n",
    "print \"f =\", n.calc(x)"
   ]
  },
  {
   "cell_type": "code",
   "execution_count": 618,
   "metadata": {
    "collapsed": false
   },
   "outputs": [
    {
     "data": {
      "image/png": "[encoded data removed]",
      "text/plain": [
       "<matplotlib.figure.Figure at 0x11c1f8350>"
      ]
     },
     "metadata": {},
     "output_type": "display_data"
    }
   ],
   "source": [
    "M = np.array([[0, 1], [1, 1.5], [1, 0.5], [6, 3], [4, 1], [5, 8], [6, 4], [7, 5], [3, 7], [2, 2], [1, 4], [3,5], [5, 4]])\n",
    "N = np.array([     0,        0,        0,      1,      0,      1,      1,      1,      1, 0, 0, 1, 0])\n",
    "\n",
    "plt.figure(1)\n",
    "for i in range(M.shape[0]):\n",
    "    clr = 'green'\n",
    "    if (N[i] == -1 or N[i] == 0):\n",
    "        clr = 'red'\n",
    "    plt.plot(M[i][0], M[i][1], marker='o', color=clr, ls='')\n",
    "plt.show()"
   ]
  },
  {
   "cell_type": "code",
   "execution_count": 619,
   "metadata": {
    "collapsed": false,
    "deletable": true,
    "editable": true
   },
   "outputs": [],
   "source": [
    "class MLP():\n",
    "    \n",
    "    def __init__(self, dim = 1, learning_rate = 1, alpha = 0, rst = 0, print_w = False):\n",
    "        self.dim = dim\n",
    "        self.learning_rate = learning_rate\n",
    "        self.alpha = alpha\n",
    "        self.rst = rst\n",
    "        self.n = np.array([None for _ in range(3)])\n",
    "        self.n[0] = [Neuron(dim=dim, rst=rst), Neuron(dim=dim, rst=rst), Neuron(dim=dim, rst=rst)]\n",
    "        self.n[1] = [Neuron(dim=len(self.n[0]), rst=rst), Neuron(dim=len(self.n[0]), rst=rst)]\n",
    "        self.n[2] = [Neuron(dim=len(self.n[1]), rst=rst)]\n",
    "        \n",
    "        if (print_w):\n",
    "            print self.n[0][0].w\n",
    "            print self.n[0][1].w\n",
    "            print self.n[0][2].w\n",
    "\n",
    "            print self.n[1][0].w\n",
    "            print self.n[1][1].w\n",
    "\n",
    "            print self.n[2][0].w\n",
    "        \n",
    "    def fit(self, x, y):\n",
    "        for xi, yi in zip(x, y):\n",
    "            for iteration in range(50):\n",
    "                lr = self.learning_rate\n",
    "                out = xi\n",
    "                for l in range(self.n.shape[0]):\n",
    "                    out = np.array([self.n[l][k].calc(out) for k in range(len(self.n[l]))])\n",
    "                out = out[0]\n",
    "                # Для последнего слоя:\n",
    "                delta6 = (yi - out) * ((1 - out) * out)\n",
    "                # Для предпоследнего слоя:\n",
    "                delta4 = self.n[2][0].w[0] * delta6\n",
    "                delta5 = self.n[2][0].w[1] * delta6\n",
    "                # Для первого слоя (пред-предпоследнего):\n",
    "                delta1 = self.n[1][0].w[0] * delta4 + self.n[1][1].w[0] * delta5\n",
    "                delta2 = self.n[1][0].w[1] * delta4 + self.n[1][1].w[1] * delta5\n",
    "                delta3 = self.n[1][0].w[2] * delta4 + self.n[1][1].w[2] * delta5\n",
    "                # Меняем коэф. на первом слое (пред-предпоследнем)\n",
    "                for i in range(self.dim+1):\n",
    "                    self.n[0][0].dw[i] = lr * delta1 * self.n[0][0].l[i] + self.alpha * self.n[0][0].dw[i]\n",
    "                    self.n[0][0].w[i] += self.n[0][0].dw[i]\n",
    "                    self.n[0][1].dw[i] = lr * delta2 * self.n[0][1].l[i] + self.alpha * self.n[0][1].dw[i]\n",
    "                    self.n[0][1].w[i] += self.n[0][1].dw[i]\n",
    "                    self.n[0][2].dw[i] = lr * delta3 * self.n[0][2].l[i] + self.alpha * self.n[0][2].dw[i]\n",
    "                    self.n[0][2].w[i] += self.n[0][2].dw[i]\n",
    "                # Меняем коэф. на предпоследнем слое\n",
    "                for i in range(len(self.n[0])+1):\n",
    "                    self.n[1][0].dw[i] = lr * delta4 * self.n[1][0].l[i] + self.alpha * self.n[1][0].dw[i]\n",
    "                    self.n[1][0].w[i] += self.n[1][0].dw[i]\n",
    "                    self.n[1][1].dw[i] = lr * delta5 * self.n[1][1].l[i] + self.alpha * self.n[1][1].dw[i]\n",
    "                    self.n[1][1].w[i] += self.n[1][1].dw[i]\n",
    "                # Меняем коэф. на последнем слое (с индексом 2)\n",
    "                for i in range(len(self.n[1])+1):\n",
    "                    self.n[2][0].dw[i] = lr * delta6 * self.n[2][0].l[i] + self.alpha * self.n[2][0].dw[i]\n",
    "                    self.n[2][0].w[i] += self.n[2][0].dw[i]\n",
    "        return self\n",
    "    \n",
    "    def predict(self, x):\n",
    "        res = []\n",
    "        for xi in x:\n",
    "            inp = xi\n",
    "            for l in range(self.n.shape[0]):\n",
    "                inp = np.array([self.n[l][k].calc(inp) for k in range(len(self.n[l]))])\n",
    "            res.append(inp[0])\n",
    "        return res"
   ]
  },
  {
   "cell_type": "code",
   "execution_count": 620,
   "metadata": {
    "collapsed": false
   },
   "outputs": [
    {
     "name": "stdout",
     "output_type": "stream",
     "text": [
      "[0.3203757968769223, 0.31776969853724046, 0.31870709607223097, 0.31746651252252278, 0.31747099546926855, 0.31746650315889102, 0.31746650531131754, 0.31746650322732484, 0.31746650694276318, 0.31749443687228768, 0.31747471435079733, 0.31746657174524473, 0.31746651415731342]\n"
     ]
    }
   ],
   "source": [
    "NN = None\n",
    "NN = MLP(dim=2, learning_rate=0.1, alpha=0, rst=1)\n",
    "NN.fit(M, N)\n",
    "print NN.predict(M)"
   ]
  },
  {
   "cell_type": "code",
   "execution_count": 495,
   "metadata": {
    "collapsed": false
   },
   "outputs": [
    {
     "name": "stdout",
     "output_type": "stream",
     "text": [
      "[ 0.54547015  0.17186532  0.85293181  0.18022341  0.58870005]\n",
      "[ 0.80726957  0.11650697  0.70428526  0.52353885  0.15770001]\n",
      "[ 0.45188796  0.83680337  0.49517159  0.76100524  0.26464363]\n",
      "[ 0.92062396  0.58057918  0.9794917 ]\n",
      "[ 0.2037771   0.23613484  0.54265497]\n",
      "[ 0.047367    0.02987794]\n",
      "\n",
      "[ 0.39292425  0.86143884  0.27614608  0.18111483  0.07707312]\n",
      "[ 0.78217974  0.25599175  0.8946939   0.546644    0.35002868]\n",
      "[ 0.05980186  0.3800074   0.430578    0.03008556  0.82897588]\n",
      "[ 0.47262594  0.09173682  0.19134092]\n",
      "[ 0.10977887  0.33722627  0.38998324]\n",
      "[ 0.49909751  0.0545363 ]\n",
      "\n",
      "[ 0.54547015  0.17186532  0.85293181  0.18022341  0.58870005]\n",
      "[ 0.80726957  0.11650697  0.70428526  0.52353885  0.15770001]\n",
      "[ 0.45188796  0.83680337  0.49517159  0.76100524  0.26464363]\n",
      "[ 0.92062396  0.58057918  0.9794917 ]\n",
      "[ 0.2037771   0.23613484  0.54265497]\n",
      "[ 0.047367    0.02987794]\n"
     ]
    }
   ],
   "source": [
    "NN = MLP(dim=5, rst=0)\n",
    "NN = None\n",
    "print    \n",
    "NN = MLP(dim=5, rst=1)\n",
    "NN = None\n",
    "print\n",
    "NN = MLP(dim=5, rst=0)\n",
    "NN = None"
   ]
  },
  {
   "cell_type": "code",
   "execution_count": 148,
   "metadata": {
    "collapsed": false
   },
   "outputs": [
    {
     "name": "stdout",
     "output_type": "stream",
     "text": [
      "[ 0.17371859  0.10281658  0.08688024]\n",
      "[ 0.43601566  0.22221956  0.7821747 ]\n",
      "[ 0.66963282  0.39925063  0.70309834]\n",
      "[ 0.04175598  0.59390637  0.93457948]\n",
      "[ 0.19354372  0.83176788  0.2210937 ]\n",
      "[ 0.82338907  0.21860274]\n"
     ]
    }
   ],
   "source": [
    "NN = None\n",
    "NN = MLP(dim=3, rst=0)"
   ]
  },
  {
   "cell_type": "code",
   "execution_count": 149,
   "metadata": {
    "collapsed": false
   },
   "outputs": [
    {
     "name": "stdout",
     "output_type": "stream",
     "text": [
      "[ 0.68061428]\n"
     ]
    }
   ],
   "source": [
    "data = np.array([40, 20, 0]).reshape(1, -1) + 0.0\n",
    "x1 = normalize(data)[0]\n",
    "print NN.predict(x1)"
   ]
  },
  {
   "cell_type": "code",
   "execution_count": 150,
   "metadata": {
    "collapsed": false
   },
   "outputs": [
    {
     "name": "stdout",
     "output_type": "stream",
     "text": [
      "[ 0.68267367]\n"
     ]
    }
   ],
   "source": [
    "data = np.array([0, 50, 80]).reshape(1, -1) + 0.0\n",
    "x2 = normalize(data)[0]\n",
    "print NN.predict(x2)"
   ]
  },
  {
   "cell_type": "code",
   "execution_count": null,
   "metadata": {
    "collapsed": true
   },
   "outputs": [],
   "source": []
  }
 ],
 "metadata": {
  "kernelspec": {
   "display_name": "Python 2",
   "language": "python",
   "name": "python2"
  },
  "language_info": {
   "codemirror_mode": {
    "name": "ipython",
    "version": 2
   },
   "file_extension": ".py",
   "mimetype": "text/x-python",
   "name": "python",
   "nbconvert_exporter": "python",
   "pygments_lexer": "ipython2",
   "version": "2.7.13"
  }
 },
 "nbformat": 4,
 "nbformat_minor": 2
}
