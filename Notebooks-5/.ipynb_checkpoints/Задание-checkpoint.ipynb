{
 "cells": [
  {
   "cell_type": "markdown",
   "metadata": {
    "deletable": true,
    "editable": true
   },
   "source": [
    "# Multilayer perceptron"
   ]
  },
  {
   "cell_type": "code",
   "execution_count": 1,
   "metadata": {
    "collapsed": true,
    "deletable": true,
    "editable": true
   },
   "outputs": [],
   "source": [
    "import math\n",
    "import pandas as pd\n",
    "import numpy as np\n",
    "from itertools import count\n",
    "from sklearn.metrics import roc_auc_score\n",
    "from sklearn import metrics\n",
    "from sklearn.model_selection import KFold\n",
    "from sklearn.preprocessing import normalize\n",
    "import matplotlib.pyplot as plt\n",
    "from mpl_toolkits.mplot3d import Axes3D\n",
    "%matplotlib inline"
   ]
  },
  {
   "cell_type": "markdown",
   "metadata": {},
   "source": [
    "### Вспомогательная функция отрисовки представления результатов алгоритма\n",
    "\n",
    "x - входной вектор параметров  \n",
    "y - реальные значения предсказываемой величины  \n",
    "pred - предсказанные значения величины"
   ]
  },
  {
   "cell_type": "code",
   "execution_count": 48,
   "metadata": {
    "collapsed": true
   },
   "outputs": [],
   "source": [
    "def PrintClfGraph(x, y, pred):\n",
    "    \n",
    "    plt.figure(1)\n",
    "    \n",
    "    for i in range(x.shape[0]):   \n",
    "        clr = 'green'\n",
    "        mrk = 'x'\n",
    "        if (y[i] < 0.5):\n",
    "            clr = 'red'\n",
    "        if ((y[i] < 0.5) == (pred[i] < 0.5)):\n",
    "            mrk = 'o'\n",
    "        plt.plot(x[i][0], x[i][1], marker=mrk, color=clr, ls='')\n",
    "\n",
    "    plt.show()"
   ]
  },
  {
   "cell_type": "code",
   "execution_count": null,
   "metadata": {
    "collapsed": true
   },
   "outputs": [],
   "source": []
  },
  {
   "cell_type": "code",
   "execution_count": 2,
   "metadata": {
    "collapsed": false,
    "deletable": true,
    "editable": true
   },
   "outputs": [
    {
     "data": {
      "image/png": "[encoded data removed]",
      "text/plain": [
       "<matplotlib.figure.Figure at 0x10f3f8b10>"
      ]
     },
     "metadata": {},
     "output_type": "display_data"
    }
   ],
   "source": [
    "def sigmoid(x):\n",
    "    return 1 / (1 + np.exp(-x))\n",
    "\n",
    "p = np.array([sigmoid(i) for i in range(-10, 10, 1)])\n",
    "plt.plot(range(-10, 10, 1), p)\n",
    "plt.show()"
   ]
  },
  {
   "cell_type": "markdown",
   "metadata": {},
   "source": [
    "### Модель искусственного нейрона"
   ]
  },
  {
   "cell_type": "code",
   "execution_count": 3,
   "metadata": {
    "collapsed": false,
    "deletable": true,
    "editable": true
   },
   "outputs": [],
   "source": [
    "class Neuron():\n",
    "    \n",
    "    ids = 0\n",
    "    \n",
    "    def __init__(self, dim = 1, rst = 0):\n",
    "        self.dim = dim+1\n",
    "        self.rst = (rst+1)*10000\n",
    "        ran = np.random.RandomState(self.rst + Neuron.ids)\n",
    "        self.w = (ran.random_sample(size=self.dim) - 0.5) / 2\n",
    "        self.l = np.array([0.0 for _ in range(self.dim)])\n",
    "        self.dw = np.array([0.0 for _ in range(self.dim)])\n",
    "        self.o = 0\n",
    "        Neuron.ids += 1\n",
    "        \n",
    "    def __del__(self):\n",
    "        Neuron.ids -= 1\n",
    "        \n",
    "    def calc(self, x):\n",
    "        x = np.append(x, -1)\n",
    "        x = np.array(x)\n",
    "        for i in range(x.shape[0]):\n",
    "            self.l[i] = x[i]\n",
    "        self.o = sigmoid(np.sum(x*self.w))\n",
    "        return self.o"
   ]
  },
  {
   "cell_type": "code",
   "execution_count": 50,
   "metadata": {
    "collapsed": false,
    "deletable": true,
    "editable": true
   },
   "outputs": [
    {
     "name": "stdout",
     "output_type": "stream",
     "text": [
      "input = [[ 38.  13.  73.  10.  76.]]\n",
      "i = [ 0.33563981  0.11482414  0.64478173  0.08832627  0.67127961]\n",
      "w = [-0.17987567  0.09917159  0.17750526 -0.01472293 -0.19730512 -0.185235  ]\n",
      "f = 0.529205139146\n",
      "o = 0.529205139146\n",
      "l = [ 0.33563981  0.11482414  0.64478173  0.08832627  0.67127961 -1.        ]\n"
     ]
    }
   ],
   "source": [
    "ran = np.random.RandomState(1)\n",
    "data = ran.randint(low=1, high=100, size=5).reshape(1, -1) + 0.0\n",
    "print \"input =\", data\n",
    "x = normalize(data)[0]\n",
    "print \"i =\", x\n",
    "n = Neuron(dim=x.shape[0], rst=0)\n",
    "print \"w =\", n.w\n",
    "print \"f =\", n.calc(x)\n",
    "print \"o =\", n.o\n",
    "print \"l =\", n.l"
   ]
  },
  {
   "cell_type": "code",
   "execution_count": 41,
   "metadata": {
    "collapsed": false
   },
   "outputs": [
    {
     "data": {
      "image/png": "[encoded data removed]",
      "text/plain": [
       "<matplotlib.figure.Figure at 0x113238050>"
      ]
     },
     "metadata": {},
     "output_type": "display_data"
    }
   ],
   "source": [
    "M = np.array([[0, 1], \n",
    "              [1, 1.5], \n",
    "              [1, 0.5], \n",
    "              [6, 2.8], \n",
    "              [4, 1], \n",
    "              [5, 8], \n",
    "              [6, 4], \n",
    "              [7, 5], \n",
    "              [3, 7], \n",
    "              [2, 2], \n",
    "              [1, 4], \n",
    "              [3, 5], \n",
    "              [4.5, 3.5],\n",
    "              [9, 1],\n",
    "              [12, -1],\n",
    "              [10, -1],\n",
    "              [10, 6],\n",
    "              [8, 0],\n",
    "              [11, 4],\n",
    "              [11, -2],\n",
    "              [6, -1],\n",
    "              [2, -2],\n",
    "              [3, -1],\n",
    "              [9, 4],\n",
    "              [1, 7]])\n",
    "\n",
    "N = np.array([0, 0, 0, 1, 0, 1, 1, 1, 1, 0, 0, 1, 0, 1, 1, 1, 1, 0, 1, 1, 0, 0, 0, 1, 1])\n",
    "\n",
    "M = M / 10\n",
    "\n",
    "plt.figure(1)\n",
    "for i in range(M.shape[0]):\n",
    "    clr = 'green'\n",
    "    if (N[i] == -1 or N[i] == 0):\n",
    "        clr = 'red'\n",
    "    plt.plot(M[i][0], M[i][1], marker='o', color=clr, ls='')\n",
    "plt.show()"
   ]
  },
  {
   "cell_type": "code",
   "execution_count": 60,
   "metadata": {
    "collapsed": false
   },
   "outputs": [],
   "source": [
    "class MLP_2():\n",
    "    \n",
    "    def __init__(self, dim = 1, learning_rate = 1, alpha = 0, max_iter=100, rst = 0, print_w = False):\n",
    "        self.dim = dim\n",
    "        self.learning_rate = learning_rate\n",
    "        self.alpha = alpha\n",
    "        self.max_iter = max_iter\n",
    "        self.rst = rst\n",
    "        self.n = np.array([None for _ in range(2)])\n",
    "        self.n[0] = [Neuron(dim=dim, rst=rst), Neuron(dim=dim, rst=rst)]\n",
    "        self.n[1] = [Neuron(dim=2, rst=rst)]\n",
    "        \n",
    "    def fit(self, x, y):\n",
    "        for kit in range(self.max_iter):\n",
    "            for xi, yi in zip(x, y):\n",
    "                lr = self.learning_rate\n",
    "                out = xi\n",
    "                for l in range(self.n.shape[0]):\n",
    "                    out = np.array([self.n[l][k].calc(out) for k in range(len(self.n[l]))])\n",
    "                # Для последнего слоя:\n",
    "                delta6 = (yi - self.n[1][0].o) * ((1 - self.n[1][0].o) * self.n[1][0].o)\n",
    "                # Для предпоследнего слоя:\n",
    "                delta4 = ((1 - self.n[0][0].o) * self.n[0][0].o) * (self.n[1][0].w[0] * delta6)\n",
    "                delta5 = ((1 - self.n[0][1].o) * self.n[0][1].o) * (self.n[1][0].w[1] * delta6)\n",
    "                # Меняем коэф. на последнем слое\n",
    "                for i in range(len(self.n[0])):\n",
    "                    self.n[1][0].dw[i] = lr * delta6 * self.n[1][0].l[i] + self.alpha * self.n[1][0].dw[i]\n",
    "                    self.n[1][0].w[i] += self.n[1][0].dw[i]\n",
    "                # Меняем коэф. на предпоследнем слое\n",
    "                for i in range(self.dim):\n",
    "                    self.n[0][0].dw[i] = lr * delta4 * self.n[0][0].l[i] + self.alpha * self.n[0][0].dw[i]\n",
    "                    self.n[0][0].w[i] += self.n[0][0].dw[i]\n",
    "                    self.n[0][1].dw[i] = lr * delta5 * self.n[0][1].l[i] + self.alpha * self.n[0][1].dw[i]\n",
    "                    self.n[0][1].w[i] += self.n[0][1].dw[i]   \n",
    "        return self\n",
    "    \n",
    "    def predict(self, x):\n",
    "        res = []\n",
    "        for xi in x:\n",
    "            inp = xi\n",
    "            for l in range(self.n.shape[0]):\n",
    "                inp = np.array([self.n[l][k].calc(inp) for k in range(len(self.n[l]))])\n",
    "            res.append(inp[0])\n",
    "        return np.array(res)"
   ]
  },
  {
   "cell_type": "markdown",
   "metadata": {},
   "source": [
    "### Применение многослойного персептрона (2 слоя) для задачи классификации"
   ]
  },
  {
   "cell_type": "code",
   "execution_count": 61,
   "metadata": {
    "collapsed": false
   },
   "outputs": [
    {
     "data": {
      "image/png": "[encoded data removed]",
      "text/plain": [
       "<matplotlib.figure.Figure at 0x112b63610>"
      ]
     },
     "metadata": {},
     "output_type": "display_data"
    }
   ],
   "source": [
    "NN = None\n",
    "NN = MLP_2(dim=2, learning_rate=0.4, alpha=0.3, max_iter=1000, rst=1)\n",
    "NN.fit(M, N)\n",
    "pr = NN.predict(M)\n",
    "PrintClfGraph(M, N, pr)"
   ]
  },
  {
   "cell_type": "code",
   "execution_count": 64,
   "metadata": {
    "collapsed": false,
    "deletable": true,
    "editable": true
   },
   "outputs": [],
   "source": [
    "class MLP():\n",
    "    \n",
    "    def __init__(self, dim = 1, learning_rate = 1, alpha = 0, max_iter = 100, rst = 0, print_w = False):\n",
    "        self.dim = dim\n",
    "        self.learning_rate = learning_rate\n",
    "        self.alpha = alpha\n",
    "        self.max_iter = max_iter\n",
    "        self.rst = rst\n",
    "        self.n = np.array([None for _ in range(3)])\n",
    "        self.n[0] = [Neuron(dim=dim, rst=rst), Neuron(dim=dim, rst=rst), Neuron(dim=dim, rst=rst)]\n",
    "        self.n[1] = [Neuron(dim=len(self.n[0]), rst=rst), Neuron(dim=len(self.n[0]), rst=rst)]\n",
    "        self.n[2] = [Neuron(dim=len(self.n[1]), rst=rst)]\n",
    "        if (print_w):\n",
    "            print self.n[0][0].w\n",
    "            print self.n[0][1].w\n",
    "            print self.n[0][2].w\n",
    "            print self.n[1][0].w\n",
    "            print self.n[1][1].w\n",
    "            print self.n[2][0].w\n",
    "        \n",
    "    def fit(self, x, y):\n",
    "        for iteration in range(self.max_iter):\n",
    "            for xi, yi in zip(x, y):\n",
    "                lr = self.learning_rate\n",
    "                out = xi\n",
    "                for l in range(self.n.shape[0]):\n",
    "                    out = np.array([self.n[l][k].calc(out) for k in range(len(self.n[l]))])\n",
    "                # Для последнего слоя:\n",
    "                delta6 = (yi - self.n[2][0].o) * ((1 - self.n[2][0].o) * self.n[2][0].o)\n",
    "                # Для предпоследнего слоя:\n",
    "                delta4 = ((1 - self.n[1][0].o) * self.n[1][0].o) * (self.n[2][0].w[0] * delta6)\n",
    "                delta5 = ((1 - self.n[1][1].o) * self.n[1][1].o) * (self.n[2][0].w[1] * delta6)\n",
    "                # Для первого слоя (пред-предпоследнего):\n",
    "                delta1 = ((1 - self.n[0][0].o) * self.n[0][0].o) * (self.n[1][0].w[0] * delta4 + self.n[1][1].w[0] * delta5)\n",
    "                delta2 = ((1 - self.n[0][1].o) * self.n[0][1].o) * (self.n[1][0].w[1] * delta4 + self.n[1][1].w[1] * delta5)\n",
    "                delta3 = ((1 - self.n[0][2].o) * self.n[0][2].o) * (self.n[1][0].w[2] * delta4 + self.n[1][1].w[2] * delta5)\n",
    "                # Меняем коэф. на первом слое (пред-предпоследнем)\n",
    "                for i in range(self.dim+1):\n",
    "                    self.n[0][0].dw[i] = lr * delta1 * self.n[0][0].l[i] + self.alpha * self.n[0][0].dw[i]\n",
    "                    self.n[0][0].w[i] += self.n[0][0].dw[i]\n",
    "                    self.n[0][1].dw[i] = lr * delta2 * self.n[0][1].l[i] + self.alpha * self.n[0][1].dw[i]\n",
    "                    self.n[0][1].w[i] += self.n[0][1].dw[i]\n",
    "                    self.n[0][2].dw[i] = lr * delta3 * self.n[0][2].l[i] + self.alpha * self.n[0][2].dw[i]\n",
    "                    self.n[0][2].w[i] += self.n[0][2].dw[i]\n",
    "                # Меняем коэф. на предпоследнем слое\n",
    "                for i in range(len(self.n[0])+1):\n",
    "                    self.n[1][0].dw[i] = lr * delta4 * self.n[1][0].l[i] + self.alpha * self.n[1][0].dw[i]\n",
    "                    self.n[1][0].w[i] += self.n[1][0].dw[i]\n",
    "                    self.n[1][1].dw[i] = lr * delta5 * self.n[1][1].l[i] + self.alpha * self.n[1][1].dw[i]\n",
    "                    self.n[1][1].w[i] += self.n[1][1].dw[i]\n",
    "                # Меняем коэф. на последнем слое (с индексом 2)\n",
    "                for i in range(len(self.n[1])+1):\n",
    "                    self.n[2][0].dw[i] = lr * delta6 * self.n[2][0].l[i] + self.alpha * self.n[2][0].dw[i]\n",
    "                    self.n[2][0].w[i] += self.n[2][0].dw[i]\n",
    "                \n",
    "        return self\n",
    "    \n",
    "    def predict(self, x):\n",
    "        res = []\n",
    "        for xi in x:\n",
    "            inp = xi\n",
    "            for l in range(self.n.shape[0]):\n",
    "                inp = np.array([self.n[l][k].calc(inp) for k in range(len(self.n[l]))])\n",
    "            res.append(inp[0])\n",
    "        return res"
   ]
  },
  {
   "cell_type": "markdown",
   "metadata": {},
   "source": [
    "### Применение многослойного персептрона (3 слоя) для задачи классификации"
   ]
  },
  {
   "cell_type": "code",
   "execution_count": 65,
   "metadata": {
    "collapsed": false
   },
   "outputs": [
    {
     "data": {
      "image/png": "[encoded data removed]",
      "text/plain": [
       "<matplotlib.figure.Figure at 0x113209410>"
      ]
     },
     "metadata": {},
     "output_type": "display_data"
    }
   ],
   "source": [
    "NN = None\n",
    "NN = MLP(dim=2, learning_rate=0.4, alpha=0.1, max_iter=2000, rst=1)\n",
    "NN.fit(M, N)\n",
    "pr = NN.predict(M)\n",
    "PrintClfGraph(M, N, pr)"
   ]
  },
  {
   "cell_type": "markdown",
   "metadata": {},
   "source": [
    "### Многослойный персептрон на больших данных"
   ]
  },
  {
   "cell_type": "code",
   "execution_count": 75,
   "metadata": {
    "collapsed": false
   },
   "outputs": [
    {
     "data": {
      "image/png": "[encoded data removed]",
      "text/plain": [
       "<matplotlib.figure.Figure at 0x113936410>"
      ]
     },
     "metadata": {},
     "output_type": "display_data"
    }
   ],
   "source": [
    "rst = np.random.RandomState(2)\n",
    "a = rst.normal(-10, 10, 100)\n",
    "a = a.reshape(50, 2)\n",
    "a[:, 0] = a[:, 0]+50\n",
    "b = rst.normal(0, 8, 100)\n",
    "b = b.reshape(50, 2)\n",
    "x = np.concatenate((a, b), axis=0)\n",
    "y = np.array([i/50 for i in range(100)])\n",
    "x = x / 100\n",
    "for i in range(100):\n",
    "    mrk = 'x'\n",
    "    clr = 'red'\n",
    "    if (y[i] < 0.5):\n",
    "        clr = 'blue'\n",
    "    plt.plot(x[i][0], x[i][1], marker=mrk, color=clr, ls='')\n",
    "plt.show()"
   ]
  },
  {
   "cell_type": "code",
   "execution_count": 109,
   "metadata": {
    "collapsed": false
   },
   "outputs": [
    {
     "data": {
      "image/png": "[encoded data removed]",
      "text/plain": [
       "<matplotlib.figure.Figure at 0x11276b410>"
      ]
     },
     "metadata": {},
     "output_type": "display_data"
    }
   ],
   "source": [
    "NN = None\n",
    "NN = MLP(dim=2, learning_rate=1, alpha=0.8, max_iter=300, rst=1)\n",
    "NN.fit(x, y)\n",
    "pr = NN.predict(x)\n",
    "PrintClfGraph(x, y, pr)"
   ]
  },
  {
   "cell_type": "code",
   "execution_count": 158,
   "metadata": {
    "collapsed": false
   },
   "outputs": [
    {
     "data": {
      "image/png": "[encoded data removed]",
      "text/plain": [
       "<matplotlib.figure.Figure at 0x112d155d0>"
      ]
     },
     "metadata": {},
     "output_type": "display_data"
    }
   ],
   "source": [
    "rst = np.random.RandomState(2)\n",
    "a = rst.normal(-10, 10, 100)\n",
    "a = a.reshape(50, 2)\n",
    "a[:, 0] = a[:, 0]+60\n",
    "b = rst.normal(0, 8, 100)\n",
    "b = b.reshape(50, 2)\n",
    "c = rst.normal(-10, 10, 100)\n",
    "c = c.reshape(50, 2)\n",
    "c = c + 65\n",
    "c[:, 0] = c[:, 0]+50\n",
    "x = np.concatenate((a, b, c), axis=0)\n",
    "y = np.array([i/50 for i in range(150)])\n",
    "x = x / 100\n",
    "for i in range(150):\n",
    "    mrk = 'x'\n",
    "    clr = 'red'\n",
    "    if (y[i] < 0.5):\n",
    "        clr = 'blue'\n",
    "    plt.plot(x[i][0], x[i][1], marker=mrk, color=clr, ls='')\n",
    "plt.show()"
   ]
  },
  {
   "cell_type": "code",
   "execution_count": 159,
   "metadata": {
    "collapsed": false
   },
   "outputs": [
    {
     "data": {
      "image/png": "[encoded data removed]",
      "text/plain": [
       "<matplotlib.figure.Figure at 0x113441990>"
      ]
     },
     "metadata": {},
     "output_type": "display_data"
    }
   ],
   "source": [
    "NN = None\n",
    "NN = MLP(dim=2, learning_rate=0.8, alpha=0.5, max_iter=1000, rst=1)\n",
    "NN.fit(x, y)\n",
    "pr = NN.predict(x)\n",
    "PrintClfGraph(x, y, pr)"
   ]
  },
  {
   "cell_type": "code",
   "execution_count": 162,
   "metadata": {
    "collapsed": false
   },
   "outputs": [
    {
     "data": {
      "image/png": "[encoded data removed]",
      "text/plain": [
       "<matplotlib.figure.Figure at 0x113f28310>"
      ]
     },
     "metadata": {},
     "output_type": "display_data"
    }
   ],
   "source": [
    "NN = None\n",
    "NN = MLP(dim=2, learning_rate=0.5, alpha=0.3, max_iter=2000, rst=1)\n",
    "NN.fit(x, y)\n",
    "pr = NN.predict(x)\n",
    "PrintClfGraph(x, y, pr)"
   ]
  },
  {
   "cell_type": "code",
   "execution_count": 166,
   "metadata": {
    "collapsed": false
   },
   "outputs": [
    {
     "data": {
      "image/png": "[encoded data removed]",
      "text/plain": [
       "<matplotlib.figure.Figure at 0x1129ef610>"
      ]
     },
     "metadata": {},
     "output_type": "display_data"
    }
   ],
   "source": [
    "NN = None\n",
    "NN = MLP(dim=2, learning_rate=0.4, alpha=0.5, max_iter=400, rst=1)\n",
    "NN.fit(x, y)\n",
    "pr = NN.predict(x)\n",
    "PrintClfGraph(x, y, pr)"
   ]
  },
  {
   "cell_type": "code",
   "execution_count": null,
   "metadata": {
    "collapsed": true
   },
   "outputs": [],
   "source": []
  }
 ],
 "metadata": {
  "kernelspec": {
   "display_name": "Python 2",
   "language": "python",
   "name": "python2"
  },
  "language_info": {
   "codemirror_mode": {
    "name": "ipython",
    "version": 2
   },
   "file_extension": ".py",
   "mimetype": "text/x-python",
   "name": "python",
   "nbconvert_exporter": "python",
   "pygments_lexer": "ipython2",
   "version": "2.7.13"
  }
 },
 "nbformat": 4,
 "nbformat_minor": 2
}
