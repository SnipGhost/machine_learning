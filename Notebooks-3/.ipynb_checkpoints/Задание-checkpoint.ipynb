{
 "cells": [
  {
   "cell_type": "markdown",
   "metadata": {
    "deletable": true,
    "editable": true
   },
   "source": [
    "# Decision tree и Random forest"
   ]
  },
  {
   "cell_type": "markdown",
   "metadata": {
    "deletable": true,
    "editable": true
   },
   "source": [
    "Реализовать 2 класса DecisionTreeClassifier и RandomForestClassifier"
   ]
  },
  {
   "cell_type": "code",
   "execution_count": 2,
   "metadata": {
    "collapsed": true,
    "deletable": true,
    "editable": true
   },
   "outputs": [],
   "source": [
    "import pandas as pd\n",
    "import numpy as np\n",
    "import matplotlib.pyplot as plt\n",
    "from sklearn.metrics import accuracy_score\n",
    "%matplotlib inline\n",
    "from sklearn.model_selection import KFold"
   ]
  },
  {
   "cell_type": "code",
   "execution_count": 84,
   "metadata": {
    "collapsed": true,
    "deletable": true,
    "editable": true
   },
   "outputs": [],
   "source": [
    "gkf = KFold(n_splits=3, shuffle=True)"
   ]
  },
  {
   "cell_type": "code",
   "execution_count": 85,
   "metadata": {
    "collapsed": false,
    "deletable": true,
    "editable": true
   },
   "outputs": [
    {
     "data": {
      "image/png": "[encoded data removed]",
      "text/plain": [
       "<matplotlib.figure.Figure at 0x7f4641075f90>"
      ]
     },
     "metadata": {},
     "output_type": "display_data"
    }
   ],
   "source": [
    "X = np.array([[1, 1], [1.5, 1], [1.5, 2], [1, 1.5], # 0\n",
    "              [5.5, 3.5],                           # 1\n",
    "              [2.5, 1.5],                           # 0\n",
    "              [3, 2.5], [6, 3], [5, 3],             # 1\n",
    "              [4, 3], [2, 1], [2, 2],               # 0\n",
    "              [5, 4], [6, 3]])                      # 1\n",
    "Y = np.array([0, 0, 0, 0, 1, 0, 1, 1, 1, 0, 0, 0, 1, 1])\n",
    "\n",
    "plt.figure(1)\n",
    "plt.plot(*zip(*X), marker='o', color=clr, ls='')\n",
    "plt.show()\n",
    "\n",
    "A = np.array([[1, 18, 88], [1, 22, 56], [0, 19, 78], [1, 11, 54], [0, 21, 76]])\n",
    "B = np.array([1, 0, 1, 0, 1])"
   ]
  },
  {
   "cell_type": "code",
   "execution_count": 86,
   "metadata": {
    "collapsed": false,
    "deletable": true,
    "editable": true
   },
   "outputs": [
    {
     "name": "stdout",
     "output_type": "stream",
     "text": [
      "[[1.0, 1.0], [1.5, 1.0], [1.5, 2.0], [1.0, 1.5], [2.5, 1.5], [3.0, 2.5], [2.0, 1.0], [2.0, 2.0]]\n",
      "[0, 0, 0, 0, 0, 1, 0, 0]\n",
      "[[5.5, 3.5], [6.0, 3.0], [5.0, 3.0], [4.0, 3.0], [5.0, 4.0], [6.0, 3.0]]\n",
      "[1, 1, 1, 0, 1, 1]\n",
      "END\n"
     ]
    }
   ],
   "source": [
    "def splitByEdge(x, y, dim, edge, min_spl):\n",
    "    xl, yl, xr, yr = [], [], [], []\n",
    "    for i in range(x.shape[0]):\n",
    "        if (x[i][dim] > edge):\n",
    "            xr.append(list(x[i]))\n",
    "            yr.append(y[i])\n",
    "        else:\n",
    "            xl.append(list(x[i]))\n",
    "            yl.append(y[i])\n",
    "    if (len(yl) < min_spl or len(yr) < min_spl):\n",
    "        return None\n",
    "    return np.array([[xl, yl],[xr, yr]])\n",
    "            \n",
    "tst = splitByEdge(X, Y, 1, 2.8, 1)\n",
    "if (tst is not None):\n",
    "    print tst[0][0]\n",
    "    print tst[0][1]\n",
    "    print tst[1][0]\n",
    "    print tst[1][1]\n",
    "\n",
    "def P(y, x_count, c_count, c_start):\n",
    "    p = np.array([0.0 for yo in range(c_count)])\n",
    "    for i in range(c_count):\n",
    "        for it in y:\n",
    "            if (it == i+c_start):\n",
    "                p[i] += 1\n",
    "    for i in range(c_count):\n",
    "        p[i] /= x_count\n",
    "    return p\n",
    "\n",
    "def H(p, type='gini'):\n",
    "    if (type == 'gini'):\n",
    "        r = 2\n",
    "        for i in p:\n",
    "            r *= i\n",
    "        return r\n",
    "    elif (type == 'entropy'):\n",
    "        r = 0\n",
    "        for i in p:\n",
    "            r -= i*np.log(i)\n",
    "        return r\n",
    "    else:\n",
    "        return 1 - p.max()\n",
    "\n",
    "def G(pl, pr, xl, xr, xo):\n",
    "    kl = (xl + 0.0) / xo\n",
    "    kr = (xr + 0.0) / xo\n",
    "    return kl*H(pl) + kr*H(pr)\n",
    "\n",
    "class TreeNode:\n",
    "    def __init__(self, edge, attr, left, right):\n",
    "        self.edge = edge\n",
    "        self.attr = attr\n",
    "        self.left = left\n",
    "        self.right = right\n",
    "\n",
    "class DecisionTreeClassifier():\n",
    "    def __init__(self, max_depth=16, min_samples_split=2, count_split=10, rst=0):\n",
    "        self.max_depth = max_depth\n",
    "        self.min_samples_split = min_samples_split\n",
    "        self.count_split = count_split\n",
    "        self.rst = rst\n",
    "        self.c_count = 2\n",
    "        self.c_start = 0\n",
    "        self.x_count = 0\n",
    "        self.bintree = None\n",
    "        \n",
    "    def tree(self, x, y, depth):\n",
    "        if (depth > self.max_depth or x.shape[0] < 2 * self.min_samples_split or len(x.shape) <= 1):\n",
    "            return None\n",
    "        min_att = x.min(axis=0)\n",
    "        max_att = x.max(axis=0)\n",
    "        dim = depth % x.shape[1]\n",
    "        l = min_att[dim]\n",
    "        r = max_att[dim]\n",
    "        s = (r - l) / self.count_split\n",
    "        tk = 1.0\n",
    "        te = (l + r) / 2\n",
    "        for ed in np.arange(l, r+s, s):\n",
    "            seg = splitByEdge(x, y, dim, ed, self.min_samples_split)\n",
    "            if (seg is not None):\n",
    "                pl = P(seg[0][1], self.x_count, self.c_count, self.c_start)\n",
    "                pr = P(seg[1][1], self.x_count, self.c_count, self.c_start)\n",
    "                xl = np.array(seg[0][0]).shape[0]\n",
    "                xr = np.array(seg[1][0]).shape[0]\n",
    "                tm = G(pl, pr, xl, xr, x.shape[0])\n",
    "                if (tm < tk):\n",
    "                    tk = tm\n",
    "                    te = ed\n",
    "        if (tk == 1.0):\n",
    "            return None\n",
    "        seg = splitByEdge(x, y, dim, te, self.min_samples_split)\n",
    "        left = self.tree(np.array(seg[0][0]), np.array(seg[0][1]), depth+1)\n",
    "        right = self.tree(np.array(seg[1][0]), np.array(seg[1][1]), depth+1)\n",
    "        if (left is None):\n",
    "            left = P(seg[0][1], self.x_count, self.c_count, self.c_start)\n",
    "        if (right is None):\n",
    "            right = P(seg[1][1], self.x_count, self.c_count, self.c_start)\n",
    "        return TreeNode(te, dim, left, right)\n",
    "        \n",
    "        \n",
    "    def fit(self, x, y):\n",
    "        self.c_count = len(set(y))\n",
    "        if (self.c_count > 2):\n",
    "            print \"Too many classes\"\n",
    "            return None\n",
    "        self.c_start = y.min()\n",
    "        self.x_count = x.shape[0]\n",
    "        self.bintree = self.tree(x, y, 0)\n",
    "        return self\n",
    "                \n",
    "    \n",
    "    def solve(self, bt, elem):\n",
    "        if (isinstance(bt, TreeNode)):\n",
    "            if (elem[bt.attr] > bt.edge):\n",
    "                return self.solve(bt.right, elem)\n",
    "            else:\n",
    "                return self.solve(bt.left, elem)\n",
    "        else:\n",
    "            if (bt[0] > bt[1]):\n",
    "                return 0\n",
    "            else:\n",
    "                return 1\n",
    "    \n",
    "    def predict(self, x):\n",
    "        y = np.array([self.c_start for i in range(x.shape[0])])\n",
    "        if (self.bintree is None):\n",
    "            print \"Warning: No data or only one class!\"\n",
    "        else:\n",
    "            for i in range(x.shape[0]): \n",
    "                y[i] = self.solve(self.bintree, x[i])\n",
    "        return y\n",
    "        \n",
    "    \n",
    "clf = DecisionTreeClassifier(max_depth=6)\n",
    "clf.fit(X, Y)\n",
    "clf.predict(X)\n",
    "\n",
    "print \"END\"\n",
    "\n",
    "#clf = DecisionTreeClassifier()\n",
    "#clf.fit(A, B)\n",
    "#clf.predict(A)"
   ]
  },
  {
   "cell_type": "code",
   "execution_count": 91,
   "metadata": {
    "collapsed": false,
    "deletable": true,
    "editable": true
   },
   "outputs": [
    {
     "name": "stdout",
     "output_type": "stream",
     "text": [
      "[0 0 1 0 1]\n",
      "[0 0 1 0 1]\n",
      "1.0\n",
      "[0 1 1 1 1]\n",
      "[0 0 1 0 1]\n",
      "0.6\n",
      "[0 1 0 0]\n",
      "[0 1 1 0]\n",
      "0.75\n"
     ]
    }
   ],
   "source": [
    "clf = DecisionTreeClassifier()\n",
    "\n",
    "for train, test in gkf.split(X, Y):\n",
    "    X_train, Y_train = X[train], Y[train]\n",
    "    X_test, Y_test = X[test], Y[test]\n",
    "    \n",
    "    clf.fit(X_train, Y_train)\n",
    "    \n",
    "    print clf.predict(X_test)\n",
    "    print Y_test\n",
    "    print(accuracy_score(y_pred=clf.predict(X_test), y_true=Y_test))"
   ]
  },
  {
   "cell_type": "code",
   "execution_count": 89,
   "metadata": {
    "collapsed": false,
    "deletable": true,
    "editable": true
   },
   "outputs": [],
   "source": [
    "class RandomForestClassifier():\n",
    "    def __init__(self):\n",
    "        pass\n",
    "    def fit(self):\n",
    "        pass\n",
    "    def predict(self):\n",
    "        pass\n",
    "    def fit_predict(self):\n",
    "        pass"
   ]
  },
  {
   "cell_type": "code",
   "execution_count": null,
   "metadata": {
    "collapsed": true,
    "deletable": true,
    "editable": true
   },
   "outputs": [],
   "source": []
  },
  {
   "cell_type": "code",
   "execution_count": null,
   "metadata": {
    "collapsed": true
   },
   "outputs": [],
   "source": []
  }
 ],
 "metadata": {
  "kernelspec": {
   "display_name": "Python 2",
   "language": "python",
   "name": "python2"
  },
  "language_info": {
   "codemirror_mode": {
    "name": "ipython",
    "version": 2
   },
   "file_extension": ".py",
   "mimetype": "text/x-python",
   "name": "python",
   "nbconvert_exporter": "python",
   "pygments_lexer": "ipython2",
   "version": "2.7.12"
  }
 },
 "nbformat": 4,
 "nbformat_minor": 2
}
