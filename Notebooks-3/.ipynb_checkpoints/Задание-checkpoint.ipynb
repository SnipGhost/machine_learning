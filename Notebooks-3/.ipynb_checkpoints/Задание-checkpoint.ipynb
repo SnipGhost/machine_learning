{
 "cells": [
  {
   "cell_type": "markdown",
   "metadata": {
    "deletable": true,
    "editable": true
   },
   "source": [
    "# Decision tree и Random forest"
   ]
  },
  {
   "cell_type": "markdown",
   "metadata": {
    "deletable": true,
    "editable": true
   },
   "source": [
    "Реализовать 2 класса DecisionTreeClassifier и RandomForestClassifier"
   ]
  },
  {
   "cell_type": "code",
   "execution_count": 1,
   "metadata": {
    "collapsed": false,
    "deletable": true,
    "editable": true
   },
   "outputs": [],
   "source": [
    "import pandas as pd\n",
    "import numpy as np\n",
    "import matplotlib.pyplot as plt\n",
    "from sklearn.metrics import accuracy_score, recall_score, precision_score\n",
    "%matplotlib inline\n",
    "from sklearn.model_selection import KFold"
   ]
  },
  {
   "cell_type": "code",
   "execution_count": 2,
   "metadata": {
    "collapsed": false,
    "deletable": true,
    "editable": true
   },
   "outputs": [],
   "source": [
    "import warnings\n",
    "\n",
    "def handle_warning(message, category, filename, lineno, file=None, line=None):\n",
    "    print('A warning occurred:')\n",
    "    print(message)\n",
    "    print('Do you wish to continue?')\n",
    "\n",
    "    while True:\n",
    "        response = raw_input('y/n: ').lower()\n",
    "        if response not in {'y', 'n'}:\n",
    "            print('Not understood.')\n",
    "        else:\n",
    "            break\n",
    "\n",
    "    if response == 'n':\n",
    "        raise category(message)\n",
    "        \n",
    "warnings.showwarning = handle_warning"
   ]
  },
  {
   "cell_type": "markdown",
   "metadata": {
    "collapsed": true,
    "deletable": true,
    "editable": true
   },
   "source": [
    "## Подготовка тестовых данных"
   ]
  },
  {
   "cell_type": "code",
   "execution_count": 3,
   "metadata": {
    "collapsed": false,
    "deletable": true,
    "editable": true
   },
   "outputs": [],
   "source": [
    "X = np.array([[1, 1], [1.5, 1], [1.5, 2], [1, 1.5], # 0\n",
    "              [5.5, 3.5],                           # 1\n",
    "              [2.5, 1.5],                           # 0\n",
    "              [3, 2.5], [6, 3], [5, 3],             # 1\n",
    "              [4, 3], [2, 1], [2, 2],               # 0\n",
    "              [5, 4], [6, 3], [5, 2.5]])            # 1\n",
    "\n",
    "Y = np.array([0, 0, 0, 0, 1, 0, 1, 1, 1, 0, 0, 0, 1, 1, 1])"
   ]
  },
  {
   "cell_type": "code",
   "execution_count": 4,
   "metadata": {
    "collapsed": false,
    "deletable": true,
    "editable": true
   },
   "outputs": [
    {
     "data": {
      "image/png": "[encoded data removed]",
      "text/plain": [
       "<matplotlib.figure.Figure at 0x7f130f5df810>"
      ]
     },
     "metadata": {},
     "output_type": "display_data"
    }
   ],
   "source": [
    "plt.figure(1)\n",
    "for i in range(X.shape[0]):\n",
    "    clr = 'green'\n",
    "    if (Y[i] == 0):\n",
    "        clr = 'red'\n",
    "    plt.plot(X[i][0], X[i][1], marker='o', color=clr, ls='')\n",
    "plt.show()"
   ]
  },
  {
   "cell_type": "code",
   "execution_count": 5,
   "metadata": {
    "collapsed": true,
    "deletable": true,
    "editable": true
   },
   "outputs": [],
   "source": [
    "A = np.array([[1, 18, 88], [1, 22, 56], [0, 19, 78], [1, 11, 54], [0, 21, 76], [1, 24, 92], [1, 20, 65]])\n",
    "B = np.array([1, 0, 1, 0, 1, 1, 0])"
   ]
  },
  {
   "cell_type": "markdown",
   "metadata": {
    "deletable": true,
    "editable": true
   },
   "source": [
    "## Реализация вспомогательных функций"
   ]
  },
  {
   "cell_type": "markdown",
   "metadata": {
    "deletable": true,
    "editable": true
   },
   "source": [
    "### Разделение массивов данных на части (splitByEdge)\n",
    "Разрезает входные вектора на две части по измерению (признаку) dim, по границе edge, с минимальным количеством отделяемых элементов min_spl. В случае слишком малого числа элементов разделенной выборки возвращает None."
   ]
  },
  {
   "cell_type": "code",
   "execution_count": 6,
   "metadata": {
    "collapsed": true,
    "deletable": true,
    "editable": true
   },
   "outputs": [],
   "source": [
    "def splitByEdge(x, y, dim, edge, min_spl):\n",
    "    xl, yl, xr, yr = [], [], [], []\n",
    "    for i in range(x.shape[0]):\n",
    "        if (x[i][dim] > edge):\n",
    "            xr.append(list(x[i]))\n",
    "            yr.append(y[i])\n",
    "        else:\n",
    "            xl.append(list(x[i]))\n",
    "            yl.append(y[i])\n",
    "    if (len(yl) < min_spl or len(yr) < min_spl):\n",
    "        return None\n",
    "    return np.array([[xl, yl],[xr, yr]])"
   ]
  },
  {
   "cell_type": "code",
   "execution_count": 7,
   "metadata": {
    "collapsed": false,
    "deletable": true,
    "editable": true
   },
   "outputs": [
    {
     "name": "stdout",
     "output_type": "stream",
     "text": [
      "[[1.0, 1.0], [1.5, 1.0], [1.5, 2.0], [1.0, 1.5], [2.5, 1.5], [3.0, 2.5], [2.0, 1.0], [2.0, 2.0], [5.0, 2.5]]\n",
      "[0, 0, 0, 0, 0, 1, 0, 0, 1]\n",
      "\n",
      "[[5.5, 3.5], [6.0, 3.0], [5.0, 3.0], [4.0, 3.0], [5.0, 4.0], [6.0, 3.0]]\n",
      "[1, 1, 1, 0, 1, 1]\n"
     ]
    }
   ],
   "source": [
    "tst = splitByEdge(X, Y, 1, 2.8, 1)\n",
    "\n",
    "if (tst is not None):\n",
    "    print tst[0][0]\n",
    "    print tst[0][1]\n",
    "    print \n",
    "    print tst[1][0]\n",
    "    print tst[1][1]"
   ]
  },
  {
   "cell_type": "markdown",
   "metadata": {
    "deletable": true,
    "editable": true
   },
   "source": [
    "### Подсчет статистики классификатора clf по случайным разбиениям"
   ]
  },
  {
   "cell_type": "code",
   "execution_count": 8,
   "metadata": {
    "collapsed": false,
    "deletable": true,
    "editable": true
   },
   "outputs": [],
   "source": [
    "def countStat(x, y, clf, n=5, decision_threshold=0.0):\n",
    "    \n",
    "    gkf = KFold(n_splits=n, shuffle=True)\n",
    "    \n",
    "    print (\"| %20s | %20s | %20s |\" % (\"accuracy\", \"recall\", \"precision\"))\n",
    "\n",
    "    for train, test in gkf.split(x, y):\n",
    "        X_train, y_train = x[train], y[train]\n",
    "        X_test, y_test = x[test], y[test]\n",
    "\n",
    "        clf.fit(X_train, y_train)\n",
    "\n",
    "        pr_raw = clf.predict(X_test)\n",
    "        \n",
    "        pr = np.around(pr_raw + decision_threshold)\n",
    "\n",
    "        accuracy = accuracy_score(y_pred=pr, y_true=y_test)\n",
    "        recall = recall_score(y_test, pr)\n",
    "        precision = precision_score(y_test, pr)\n",
    "\n",
    "        print (\"| %20f | %20f | %20f |\" % (accuracy, recall, precision))"
   ]
  },
  {
   "cell_type": "markdown",
   "metadata": {
    "deletable": true,
    "editable": true
   },
   "source": [
    "### Статистические функции\n",
    "P - возвращает доли элементов классов\n",
    "H - возвращает расчет критерия разбиения\n",
    "G - возвращает расчет неоднородности узла"
   ]
  },
  {
   "cell_type": "code",
   "execution_count": 9,
   "metadata": {
    "collapsed": true,
    "deletable": true,
    "editable": true
   },
   "outputs": [],
   "source": [
    "#----------------------------------------------------------\n",
    "def P(y, x_count, c_count, c_start):\n",
    "    p = np.array([0.0 for yo in range(c_count)])\n",
    "    for i in range(c_count):\n",
    "        for it in y:\n",
    "            if (it == i+c_start):\n",
    "                p[i] += 1\n",
    "    for i in range(c_count):\n",
    "        p[i] /= x_count\n",
    "    return p\n",
    "#----------------------------------------------------------\n",
    "def H(p, type='gini'):\n",
    "    if (type == 'gini'):\n",
    "        r = 2\n",
    "        for i in p:\n",
    "            r *= i\n",
    "        return r\n",
    "    elif (type == 'entropy'):\n",
    "        r = 0\n",
    "        for i in p:\n",
    "            r -= i*np.log(i)\n",
    "        return r\n",
    "    else:\n",
    "        return 1 - p.max()\n",
    "#----------------------------------------------------------\n",
    "def G(pl, pr, xl, xr, xo):\n",
    "    kl = (xl + 0.0) / xo\n",
    "    kr = (xr + 0.0) / xo\n",
    "    return kl*H(pl) + kr*H(pr)\n",
    "#----------------------------------------------------------"
   ]
  },
  {
   "cell_type": "markdown",
   "metadata": {
    "deletable": true,
    "editable": true
   },
   "source": [
    "### Структура для хранения результатов обучения"
   ]
  },
  {
   "cell_type": "code",
   "execution_count": 10,
   "metadata": {
    "collapsed": true,
    "deletable": true,
    "editable": true
   },
   "outputs": [],
   "source": [
    "class TreeNode:\n",
    "    def __init__(self, edge, attr, left, right):\n",
    "        self.edge = edge\n",
    "        self.attr = attr\n",
    "        self.left = left\n",
    "        self.right = right"
   ]
  },
  {
   "cell_type": "markdown",
   "metadata": {
    "deletable": true,
    "editable": true
   },
   "source": [
    "## DecisionTreeClassifier"
   ]
  },
  {
   "cell_type": "code",
   "execution_count": 11,
   "metadata": {
    "collapsed": false,
    "deletable": true,
    "editable": true
   },
   "outputs": [],
   "source": [
    "class DecisionTreeClassifier():\n",
    "    \n",
    "    def __init__(self, max_depth=16, min_samples_split=2, count_split=10, dim_start=0):\n",
    "        self.max_depth = max_depth\n",
    "        self.min_samples_split = min_samples_split\n",
    "        self.count_split = count_split\n",
    "        self.c_count = 2\n",
    "        self.c_start = 0\n",
    "        self.x_count = 0\n",
    "        self.dim_pass = dim_start\n",
    "        self.bintree = None\n",
    "        \n",
    "    def tree(self, x, y, depth):\n",
    "        if (depth > self.max_depth or x.shape[0] < 2 * self.min_samples_split or len(x.shape) <= 1):\n",
    "            return None\n",
    "        min_att = x.min(axis=0)\n",
    "        max_att = x.max(axis=0)\n",
    "        dim = (self.dim_pass + depth) % x.shape[1]\n",
    "        l = min_att[dim]\n",
    "        r = max_att[dim]\n",
    "        dh = r - l + 0.0\n",
    "        s = dh / self.count_split\n",
    "        tk = 1.0\n",
    "        te = (l + r) / 2\n",
    "        while (r+s <= l):\n",
    "            self.dim_pass += 1\n",
    "            dim = (self.dim_pass + depth) % x.shape[1]\n",
    "            l = min_att[dim]\n",
    "            r = max_att[dim]\n",
    "            dh = r - l + 0.0\n",
    "            s = dh / self.count_split\n",
    "            tk = 1.0\n",
    "            te = (l + r) / 2\n",
    "            if (self.dim_pass > x.shape[1]*depth):\n",
    "                return None\n",
    "        for ed in np.arange(l, r + s, s):\n",
    "            seg = splitByEdge(x, y, dim, ed, self.min_samples_split)\n",
    "            if (seg is not None):\n",
    "                pl = P(seg[0][1], self.x_count, self.c_count, self.c_start)\n",
    "                pr = P(seg[1][1], self.x_count, self.c_count, self.c_start)\n",
    "                xl = np.array(seg[0][0]).shape[0]\n",
    "                xr = np.array(seg[1][0]).shape[0]\n",
    "                tm = G(pl, pr, xl, xr, x.shape[0])\n",
    "                if (tm < tk):\n",
    "                    tk = tm\n",
    "                    te = ed\n",
    "        if (tk == 1.0):\n",
    "            return None\n",
    "        seg = splitByEdge(x, y, dim, te, self.min_samples_split)\n",
    "        left = self.tree(np.array(seg[0][0]), np.array(seg[0][1]), depth+1)\n",
    "        right = self.tree(np.array(seg[1][0]), np.array(seg[1][1]), depth+1)\n",
    "        if (left is None):\n",
    "            left = P(seg[0][1], self.x_count, self.c_count, self.c_start)\n",
    "        if (right is None):\n",
    "            right = P(seg[1][1], self.x_count, self.c_count, self.c_start)\n",
    "        return TreeNode(te, dim, left, right)\n",
    "        \n",
    "        \n",
    "    def fit(self, x, y):\n",
    "        self.c_count = len(set(y))\n",
    "        if (self.c_count > 2):\n",
    "            warnings.warn(\"Too many classes for binary decision tree\", RuntimeWarning)\n",
    "            return None\n",
    "        self.c_start = y.min()\n",
    "        self.x_count = x.shape[0]\n",
    "        self.bintree = self.tree(x, y, 0)\n",
    "        return self\n",
    "                \n",
    "    \n",
    "    def solve(self, bt, elem):\n",
    "        if (isinstance(bt, TreeNode)):\n",
    "            if (elem[bt.attr] > bt.edge):\n",
    "                return self.solve(bt.right, elem)\n",
    "            else:\n",
    "                return self.solve(bt.left, elem)\n",
    "        else:\n",
    "            if (bt[0] > bt[1]):\n",
    "                return 0\n",
    "            else:\n",
    "                return 1\n",
    "    \n",
    "    def predict(self, x):\n",
    "        y = np.array([self.c_start for i in range(x.shape[0])])\n",
    "        if (self.bintree is None):\n",
    "            warnings.warn(\"No data or only one class\", RuntimeWarning)\n",
    "        else:\n",
    "            for i in range(x.shape[0]): \n",
    "                y[i] = self.solve(self.bintree, x[i])\n",
    "        return y"
   ]
  },
  {
   "cell_type": "markdown",
   "metadata": {
    "deletable": true,
    "editable": true
   },
   "source": [
    "### Двумерный случай"
   ]
  },
  {
   "cell_type": "code",
   "execution_count": 12,
   "metadata": {
    "collapsed": false,
    "deletable": true,
    "editable": true
   },
   "outputs": [
    {
     "name": "stdout",
     "output_type": "stream",
     "text": [
      "[0 0 0 0 1 0 1 1 1 1 0 0 1 1 1]\n",
      "[0 0 0 0 1 0 1 1 1 0 0 0 1 1 1]\n"
     ]
    }
   ],
   "source": [
    "clf = DecisionTreeClassifier(max_depth=6)\n",
    "clf.fit(X, Y)\n",
    "print clf.predict(X)\n",
    "print Y"
   ]
  },
  {
   "cell_type": "markdown",
   "metadata": {
    "deletable": true,
    "editable": true
   },
   "source": [
    "### Трехмерный случай"
   ]
  },
  {
   "cell_type": "code",
   "execution_count": 13,
   "metadata": {
    "collapsed": false,
    "deletable": true,
    "editable": true
   },
   "outputs": [
    {
     "name": "stdout",
     "output_type": "stream",
     "text": [
      "[1 0 1 1 1 0 0]\n",
      "[1 0 1 0 1 1 0]\n"
     ]
    }
   ],
   "source": [
    "clf = DecisionTreeClassifier()\n",
    "clf.fit(A, B)\n",
    "print clf.predict(A)\n",
    "print B"
   ]
  },
  {
   "cell_type": "markdown",
   "metadata": {
    "deletable": true,
    "editable": true
   },
   "source": [
    "### Разбиение на выборки и подсчет ошибок"
   ]
  },
  {
   "cell_type": "code",
   "execution_count": 14,
   "metadata": {
    "collapsed": true,
    "deletable": true,
    "editable": true
   },
   "outputs": [],
   "source": [
    "gkf = KFold(n_splits=5, shuffle=True)"
   ]
  },
  {
   "cell_type": "code",
   "execution_count": 15,
   "metadata": {
    "collapsed": false,
    "deletable": true,
    "editable": true
   },
   "outputs": [
    {
     "name": "stdout",
     "output_type": "stream",
     "text": [
      "[0 1 0]\n",
      "[0 0 0]\n",
      "accuracy:  0.666666666667\n",
      "[0 1 1]\n",
      "[0 1 1]\n",
      "accuracy:  1.0\n",
      "[0 1 1]\n",
      "[0 1 1]\n",
      "accuracy:  1.0\n",
      "[0 0 0]\n",
      "[0 1 0]\n",
      "accuracy:  0.666666666667\n",
      "[0 1 1]\n",
      "[0 1 1]\n",
      "accuracy:  1.0\n",
      "[0 1 1]\n",
      "[0 0 0]\n",
      "accuracy:  0.333333333333\n",
      "[0 0 1]\n",
      "[0 0 1]\n",
      "accuracy:  1.0\n",
      "[1 1 1]\n",
      "[1 1 1]\n",
      "accuracy:  1.0\n",
      "[0 1 0]\n",
      "[0 1 1]\n",
      "accuracy:  0.666666666667\n",
      "[0 1 0]\n",
      "[0 1 0]\n",
      "accuracy:  1.0\n"
     ]
    }
   ],
   "source": [
    "clf = DecisionTreeClassifier()\n",
    "\n",
    "for x in range(2):\n",
    "    for train, test in gkf.split(X, Y):\n",
    "        X_train, Y_train = X[train], Y[train]\n",
    "        X_test, Y_test = X[test], Y[test]\n",
    "\n",
    "        clf.fit(X_train, Y_train)\n",
    "\n",
    "        print clf.predict(X_test)\n",
    "        print Y_test\n",
    "        print \"accuracy: \", accuracy_score(y_pred=clf.predict(X_test), y_true=Y_test)"
   ]
  },
  {
   "cell_type": "markdown",
   "metadata": {
    "deletable": true,
    "editable": true
   },
   "source": [
    "### Обучение и тестирование на одинаковых данных"
   ]
  },
  {
   "cell_type": "code",
   "execution_count": 16,
   "metadata": {
    "collapsed": false,
    "deletable": true,
    "editable": true
   },
   "outputs": [
    {
     "name": "stdout",
     "output_type": "stream",
     "text": [
      "[0 0 0 0 1 0 1 1 1 1 0 0 1 1 1]\n",
      "[0 0 0 0 1 0 1 1 1 0 0 0 1 1 1]\n",
      "|             accuracy |               recall |            precision |\n",
      "|             0.933333 |             1.000000 |             0.875000 |\n"
     ]
    }
   ],
   "source": [
    "clf = DecisionTreeClassifier()\n",
    "\n",
    "clf.fit(X, Y)\n",
    "    \n",
    "pr = clf.predict(X)\n",
    "print pr\n",
    "print Y\n",
    "\n",
    "accuracy = accuracy_score(y_pred=pr, y_true=Y)\n",
    "recall = recall_score(Y, pr)\n",
    "precision = precision_score(Y, pr)\n",
    "\n",
    "print (\"| %20s | %20s | %20s |\" % (\"accuracy\", \"recall\", \"precision\"))\n",
    "print (\"| %20f | %20f | %20f |\" % (accuracy, recall, precision))"
   ]
  },
  {
   "cell_type": "markdown",
   "metadata": {
    "deletable": true,
    "editable": true
   },
   "source": [
    "### Обработка большого датасета"
   ]
  },
  {
   "cell_type": "code",
   "execution_count": 17,
   "metadata": {
    "collapsed": false,
    "deletable": true,
    "editable": true,
    "scrolled": true
   },
   "outputs": [
    {
     "data": {
      "text/html": [
       "<div>\n",
       "<table border=\"1\" class=\"dataframe\">\n",
       "  <thead>\n",
       "    <tr style=\"text-align: right;\">\n",
       "      <th></th>\n",
       "      <th>SeriousDlqin2yrs</th>\n",
       "      <th>RevolvingUtilizationOfUnsecuredLines</th>\n",
       "      <th>age</th>\n",
       "      <th>NumberOfTime30-59DaysPastDueNotWorse</th>\n",
       "      <th>DebtRatio</th>\n",
       "      <th>MonthlyIncome</th>\n",
       "      <th>NumberOfOpenCreditLinesAndLoans</th>\n",
       "      <th>NumberOfTimes90DaysLate</th>\n",
       "      <th>NumberRealEstateLoansOrLines</th>\n",
       "      <th>NumberOfTime60-89DaysPastDueNotWorse</th>\n",
       "      <th>NumberOfDependents</th>\n",
       "    </tr>\n",
       "  </thead>\n",
       "  <tbody>\n",
       "    <tr>\n",
       "      <th>1</th>\n",
       "      <td>1</td>\n",
       "      <td>0.766127</td>\n",
       "      <td>45</td>\n",
       "      <td>2</td>\n",
       "      <td>0.802982</td>\n",
       "      <td>9120.0</td>\n",
       "      <td>13</td>\n",
       "      <td>0</td>\n",
       "      <td>6</td>\n",
       "      <td>0</td>\n",
       "      <td>2.0</td>\n",
       "    </tr>\n",
       "    <tr>\n",
       "      <th>2</th>\n",
       "      <td>0</td>\n",
       "      <td>0.957151</td>\n",
       "      <td>40</td>\n",
       "      <td>0</td>\n",
       "      <td>0.121876</td>\n",
       "      <td>2600.0</td>\n",
       "      <td>4</td>\n",
       "      <td>0</td>\n",
       "      <td>0</td>\n",
       "      <td>0</td>\n",
       "      <td>1.0</td>\n",
       "    </tr>\n",
       "    <tr>\n",
       "      <th>3</th>\n",
       "      <td>0</td>\n",
       "      <td>0.658180</td>\n",
       "      <td>38</td>\n",
       "      <td>1</td>\n",
       "      <td>0.085113</td>\n",
       "      <td>3042.0</td>\n",
       "      <td>2</td>\n",
       "      <td>1</td>\n",
       "      <td>0</td>\n",
       "      <td>0</td>\n",
       "      <td>0.0</td>\n",
       "    </tr>\n",
       "    <tr>\n",
       "      <th>4</th>\n",
       "      <td>0</td>\n",
       "      <td>0.233810</td>\n",
       "      <td>30</td>\n",
       "      <td>0</td>\n",
       "      <td>0.036050</td>\n",
       "      <td>3300.0</td>\n",
       "      <td>5</td>\n",
       "      <td>0</td>\n",
       "      <td>0</td>\n",
       "      <td>0</td>\n",
       "      <td>0.0</td>\n",
       "    </tr>\n",
       "    <tr>\n",
       "      <th>5</th>\n",
       "      <td>0</td>\n",
       "      <td>0.907239</td>\n",
       "      <td>49</td>\n",
       "      <td>1</td>\n",
       "      <td>0.024926</td>\n",
       "      <td>63588.0</td>\n",
       "      <td>7</td>\n",
       "      <td>0</td>\n",
       "      <td>1</td>\n",
       "      <td>0</td>\n",
       "      <td>0.0</td>\n",
       "    </tr>\n",
       "  </tbody>\n",
       "</table>\n",
       "</div>"
      ],
      "text/plain": [
       "   SeriousDlqin2yrs  RevolvingUtilizationOfUnsecuredLines  age  \\\n",
       "1                 1                              0.766127   45   \n",
       "2                 0                              0.957151   40   \n",
       "3                 0                              0.658180   38   \n",
       "4                 0                              0.233810   30   \n",
       "5                 0                              0.907239   49   \n",
       "\n",
       "   NumberOfTime30-59DaysPastDueNotWorse  DebtRatio  MonthlyIncome  \\\n",
       "1                                     2   0.802982         9120.0   \n",
       "2                                     0   0.121876         2600.0   \n",
       "3                                     1   0.085113         3042.0   \n",
       "4                                     0   0.036050         3300.0   \n",
       "5                                     1   0.024926        63588.0   \n",
       "\n",
       "   NumberOfOpenCreditLinesAndLoans  NumberOfTimes90DaysLate  \\\n",
       "1                               13                        0   \n",
       "2                                4                        0   \n",
       "3                                2                        1   \n",
       "4                                5                        0   \n",
       "5                                7                        0   \n",
       "\n",
       "   NumberRealEstateLoansOrLines  NumberOfTime60-89DaysPastDueNotWorse  \\\n",
       "1                             6                                     0   \n",
       "2                             0                                     0   \n",
       "3                             0                                     0   \n",
       "4                             0                                     0   \n",
       "5                             1                                     0   \n",
       "\n",
       "   NumberOfDependents  \n",
       "1                 2.0  \n",
       "2                 1.0  \n",
       "3                 0.0  \n",
       "4                 0.0  \n",
       "5                 0.0  "
      ]
     },
     "execution_count": 17,
     "metadata": {},
     "output_type": "execute_result"
    }
   ],
   "source": [
    "df = pd.read_csv('./data/cs-training.csv', sep=',')\n",
    "df.head()"
   ]
  },
  {
   "cell_type": "code",
   "execution_count": 18,
   "metadata": {
    "collapsed": true,
    "deletable": true,
    "editable": true
   },
   "outputs": [],
   "source": [
    "df = df.dropna()\n",
    "X = df.as_matrix(columns=df.columns[1:])\n",
    "Y = df.as_matrix(columns=df.columns[:1])\n",
    "Y = Y.reshape(Y.shape[0])"
   ]
  },
  {
   "cell_type": "markdown",
   "metadata": {
    "deletable": true,
    "editable": true
   },
   "source": [
    "#### Максимальная глубина = 8, количество пре-разбиений внутри каждого признака = 6"
   ]
  },
  {
   "cell_type": "code",
   "execution_count": 19,
   "metadata": {
    "collapsed": false,
    "deletable": true,
    "editable": true
   },
   "outputs": [
    {
     "name": "stdout",
     "output_type": "stream",
     "text": [
      "|             accuracy |               recall |            precision |\n",
      "|             0.929825 |             0.009541 |             0.372093 |\n",
      "|             0.931820 |             0.071600 |             0.550926 |\n",
      "|             0.931529 |             0.140330 |             0.557377 |\n",
      "|             0.930448 |             0.162602 |             0.547945 |\n",
      "|             0.935476 |             0.138125 |             0.560914 |\n"
     ]
    }
   ],
   "source": [
    "clf = DecisionTreeClassifier(max_depth=8, count_split=6)\n",
    "countStat(X, Y, clf, 5)"
   ]
  },
  {
   "cell_type": "markdown",
   "metadata": {
    "deletable": true,
    "editable": true
   },
   "source": [
    "#### Максимальная глубина = 1, количество пре-разбиений внутри каждого признака = 3"
   ]
  },
  {
   "cell_type": "code",
   "execution_count": 20,
   "metadata": {
    "collapsed": false,
    "deletable": true,
    "editable": true
   },
   "outputs": [
    {
     "name": "stdout",
     "output_type": "stream",
     "text": [
      "|             accuracy |               recall |            precision |\n",
      "A warning occurred:\n",
      "Precision is ill-defined and being set to 0.0 due to no predicted samples.\n",
      "Do you wish to continue?\n",
      "y/n: y\n",
      "|             0.932319 |             0.000000 |             0.000000 |\n",
      "|             0.932444 |             0.000000 |             0.000000 |\n",
      "|             0.930365 |             0.000000 |             0.000000 |\n",
      "|             0.929617 |             0.000000 |             0.000000 |\n",
      "|             0.927826 |             0.000000 |             0.000000 |\n"
     ]
    }
   ],
   "source": [
    "clf = DecisionTreeClassifier(max_depth=1, count_split=3)\n",
    "countStat(X, Y, clf, 5)"
   ]
  },
  {
   "cell_type": "markdown",
   "metadata": {
    "deletable": true,
    "editable": true
   },
   "source": [
    "#### Максимальная глубина = 12, количество пре-разбиений внутри каждого признака = 6"
   ]
  },
  {
   "cell_type": "code",
   "execution_count": 21,
   "metadata": {
    "collapsed": false,
    "deletable": true,
    "editable": true
   },
   "outputs": [
    {
     "name": "stdout",
     "output_type": "stream",
     "text": [
      "|             accuracy |               recall |            precision |\n",
      "|             0.931072 |             0.114589 |             0.549575 |\n",
      "|             0.928993 |             0.103226 |             0.495775 |\n",
      "|             0.932070 |             0.003690 |             0.300000 |\n",
      "|             0.931113 |             0.179502 |             0.526957 |\n",
      "|             0.932566 |             0.158663 |             0.523046 |\n"
     ]
    }
   ],
   "source": [
    "clf = DecisionTreeClassifier(max_depth=12, count_split=6)\n",
    "countStat(X, Y, clf, 5)"
   ]
  },
  {
   "cell_type": "markdown",
   "metadata": {
    "deletable": true,
    "editable": true
   },
   "source": [
    "#### Максимальная глубина = 24, количество пре-разбиений внутри каждого признака = 7"
   ]
  },
  {
   "cell_type": "code",
   "execution_count": 22,
   "metadata": {
    "collapsed": false,
    "deletable": true,
    "editable": true,
    "scrolled": true
   },
   "outputs": [
    {
     "name": "stdout",
     "output_type": "stream",
     "text": [
      "|             accuracy |               recall |            precision |\n",
      "|             0.932901 |             0.113665 |             0.494595 |\n",
      "|             0.930448 |             0.110194 |             0.534286 |\n",
      "|             0.930947 |             0.114764 |             0.612308 |\n",
      "|             0.931778 |             0.093093 |             0.541958 |\n",
      "|             0.931360 |             0.024833 |             0.500000 |\n"
     ]
    }
   ],
   "source": [
    "clf = DecisionTreeClassifier(max_depth=24, count_split=7)\n",
    "countStat(X, Y, clf, 5)"
   ]
  },
  {
   "cell_type": "markdown",
   "metadata": {
    "deletable": true,
    "editable": true
   },
   "source": [
    "## RandomForestClassifier"
   ]
  },
  {
   "cell_type": "code",
   "execution_count": 23,
   "metadata": {
    "collapsed": false,
    "deletable": true,
    "editable": true
   },
   "outputs": [],
   "source": [
    "class RandomForestClassifier():\n",
    "    \n",
    "    def __init__(self, count_trees=5, batch_size=5, count_split=5, rst=0):\n",
    "        self.count_trees = count_trees\n",
    "        self.batch_size = batch_size\n",
    "        self.count_split = count_split\n",
    "        self.rst = rst\n",
    "        self.dtree = [None for _ in range(count_trees)]\n",
    "        \n",
    "    def fit(self, x, y):\n",
    "        ran = np.random.RandomState(self.rst)\n",
    "        count_attr = int(np.around(np.sqrt(x.shape[1])))\n",
    "        for i in range(self.count_trees):\n",
    "            rxi = ran.randint(low=0, high=x.shape[0], size=self.batch_size) # random x-element indexes\n",
    "            rai = ran.randint(low=0, high=x.shape[1], size=count_attr)      # random attribute indexes\n",
    "            ux = x[rxi]\n",
    "            uy = y[rxi]\n",
    "            for it in ux:\n",
    "                it = it[rai]\n",
    "            self.dtree[i] = DecisionTreeClassifier(max_depth=count_attr, count_split=5).fit(ux, uy)\n",
    "        return self\n",
    "    \n",
    "    def predict(self, x):\n",
    "        y = np.array([0.0 for _ in range (x.shape[0])])\n",
    "        for tree in self.dtree:\n",
    "            p = tree.predict(x)\n",
    "            y[np.where(p == 1)] += 1\n",
    "        y = y / self.count_trees\n",
    "        return y"
   ]
  },
  {
   "cell_type": "markdown",
   "metadata": {
    "deletable": true,
    "editable": true
   },
   "source": [
    "### Тестирование на целом датасете"
   ]
  },
  {
   "cell_type": "code",
   "execution_count": 24,
   "metadata": {
    "collapsed": false,
    "deletable": true,
    "editable": true
   },
   "outputs": [],
   "source": [
    "clf = RandomForestClassifier(count_trees=200, batch_size=1000, rst=0)\n",
    "clf.fit(X, Y)\n",
    "pr_raw = clf.predict(X)"
   ]
  },
  {
   "cell_type": "code",
   "execution_count": 25,
   "metadata": {
    "collapsed": false,
    "deletable": true,
    "editable": true
   },
   "outputs": [
    {
     "name": "stdout",
     "output_type": "stream",
     "text": [
      "|             accuracy |               recall |            precision |\n",
      "|             0.930423 |             0.001556 |             0.351351 |\n"
     ]
    }
   ],
   "source": [
    "decision_threshold = 0.36 # Коэффициент принятия решения об отнесении к более редкому классу\n",
    "\n",
    "pr = np.around(pr_raw + decision_threshold)\n",
    "\n",
    "accuracy = accuracy_score(y_pred=pr, y_true=Y)\n",
    "recall = recall_score(Y, pr)\n",
    "precision = precision_score(Y, pr)\n",
    "\n",
    "print (\"| %20s | %20s | %20s |\" % (\"accuracy\", \"recall\", \"precision\"))\n",
    "print (\"| %20f | %20f | %20f |\" % (accuracy, recall, precision))"
   ]
  },
  {
   "cell_type": "markdown",
   "metadata": {
    "deletable": true,
    "editable": true
   },
   "source": [
    "### Тестирование на частях датасета"
   ]
  },
  {
   "cell_type": "code",
   "execution_count": 26,
   "metadata": {
    "collapsed": false,
    "deletable": true,
    "editable": true
   },
   "outputs": [
    {
     "name": "stdout",
     "output_type": "stream",
     "text": [
      "|             accuracy |               recall |            precision |\n",
      "|             0.930989 |             0.000000 |             0.000000 |\n",
      "|             0.927954 |             0.004115 |             0.152174 |\n",
      "|             0.931446 |             0.009208 |             0.300000 |\n",
      "|             0.929201 |             0.007156 |             0.240000 |\n",
      "|             0.929115 |             0.005914 |             0.294118 |\n"
     ]
    }
   ],
   "source": [
    "clf = RandomForestClassifier(count_trees=200, batch_size=1000, rst=0)\n",
    "countStat(X, Y, clf, 5, decision_threshold=0.36)"
   ]
  },
  {
   "cell_type": "code",
   "execution_count": 28,
   "metadata": {
    "collapsed": false,
    "deletable": true,
    "editable": true
   },
   "outputs": [
    {
     "name": "stdout",
     "output_type": "stream",
     "text": [
      "|             accuracy |               recall |            precision |\n",
      "|             0.925501 |             0.025470 |             0.185022 |\n",
      "|             0.924753 |             0.024633 |             0.222222 |\n",
      "|             0.924462 |             0.021661 |             0.158590 |\n",
      "|             0.923547 |             0.031534 |             0.176871 |\n",
      "|             0.921382 |             0.018322 |             0.118774 |\n"
     ]
    }
   ],
   "source": [
    "clf = RandomForestClassifier(count_trees=200, batch_size=1000, rst=0)\n",
    "countStat(X, Y, clf, 5, decision_threshold=0.45)"
   ]
  },
  {
   "cell_type": "code",
   "execution_count": 31,
   "metadata": {
    "collapsed": false
   },
   "outputs": [
    {
     "name": "stdout",
     "output_type": "stream",
     "text": [
      "|             accuracy |               recall |            precision |\n",
      "|             0.924129 |             0.019631 |             0.157143 |\n",
      "|             0.928162 |             0.014432 |             0.212389 |\n",
      "|             0.926166 |             0.023256 |             0.174312 |\n",
      "|             0.924545 |             0.020371 |             0.158879 |\n",
      "|             0.924625 |             0.028070 |             0.241206 |\n"
     ]
    }
   ],
   "source": [
    "clf = RandomForestClassifier(count_trees=200, batch_size=1000, rst=0)\n",
    "countStat(X, Y, clf, 5, decision_threshold=0.44)"
   ]
  },
  {
   "cell_type": "code",
   "execution_count": null,
   "metadata": {
    "collapsed": true
   },
   "outputs": [],
   "source": []
  }
 ],
 "metadata": {
  "kernelspec": {
   "display_name": "Python 2",
   "language": "python",
   "name": "python2"
  },
  "language_info": {
   "codemirror_mode": {
    "name": "ipython",
    "version": 2
   },
   "file_extension": ".py",
   "mimetype": "text/x-python",
   "name": "python",
   "nbconvert_exporter": "python",
   "pygments_lexer": "ipython2",
   "version": "2.7.12"
  }
 },
 "nbformat": 4,
 "nbformat_minor": 2
}
